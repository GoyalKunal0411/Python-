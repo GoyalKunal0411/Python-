{
 "cells": [
  {
   "cell_type": "markdown",
   "id": "2d94f2d4",
   "metadata": {},
   "source": [
    "##                     ITP MINI PROJECT"
   ]
  },
  {
   "cell_type": "markdown",
   "id": "f6ec127e",
   "metadata": {},
   "source": [
    "### Courier Management System\n",
    "For a seamless eCommerce shopping experience, it is essential to deliver the product promptly to the customer. And that’s where a professional courier service plays a vital role.'FastTrack' courier company stores the relevant data of its clients and parcels in the form of dictionary. Create a dictionary for storing shipment information in key-value pairs. Shipment id is used as a key and list of other attributes like sender, receiver, start date, DeliveryDate,Sender_location,Receiver_location, Delivery status, Shipping cost is associated with shipment id. Use the data shown in the table below."
   ]
  },
  {
   "cell_type": "markdown",
   "id": "10917cfb",
   "metadata": {},
   "source": [
    "### Q1. Create a Dictionary of lists to store the information of shipments given in the table. The key should be the shipment id and the value with it’s details. "
   ]
  },
  {
   "cell_type": "code",
   "execution_count": 270,
   "id": "146c3911",
   "metadata": {},
   "outputs": [],
   "source": [
    "shipment= {101:[1,3,'14-03-2020','25-03-2020','Area1','Area6','Deliverd',198],\\\n",
    "           102:[4,1,'18-06-2020','09-07-2020','Area2','Area4','Delivered',275],\\\n",
    "           103:[2,3,'01-12-2020','','Area5','Area1','In-Transit',200],104:\\\n",
    "           [1,5,'23-06-2020','25-06-2020','Area1','Area4','Delivered',314],105:\\\n",
    "           [3,4,'29-08-2020','10-09-2020','Area5','Area3','Delivered',275],\n",
    "           106:[5,2,'28-06-2020','','Area3','Area1','In-Transit',270]}"
   ]
  },
  {
   "cell_type": "code",
   "execution_count": 271,
   "id": "0d26eaef",
   "metadata": {},
   "outputs": [
    {
     "data": {
      "text/plain": [
       "{101: [1, 3, '14-03-2020', '25-03-2020', 'Area1', 'Area6', 'Deliverd', 198],\n",
       " 102: [4, 1, '18-06-2020', '09-07-2020', 'Area2', 'Area4', 'Delivered', 275],\n",
       " 103: [2, 3, '01-12-2020', '', 'Area5', 'Area1', 'In-Transit', 200],\n",
       " 104: [1, 5, '23-06-2020', '25-06-2020', 'Area1', 'Area4', 'Delivered', 314],\n",
       " 105: [3, 4, '29-08-2020', '10-09-2020', 'Area5', 'Area3', 'Delivered', 275],\n",
       " 106: [5, 2, '28-06-2020', '', 'Area3', 'Area1', 'In-Transit', 270]}"
      ]
     },
     "execution_count": 271,
     "metadata": {},
     "output_type": "execute_result"
    }
   ],
   "source": [
    "shipment"
   ]
  },
  {
   "cell_type": "markdown",
   "id": "ede2bdb4",
   "metadata": {},
   "source": [
    "### Q2. Create a Dictionary to store the information of clients given in the table.\n",
    "\n"
   ]
  },
  {
   "cell_type": "code",
   "execution_count": 272,
   "id": "acdef90d",
   "metadata": {},
   "outputs": [],
   "source": [
    " client={1:'Phillip',2:'Omega III',3:'Ramya',4:'Romesh',5:'John'}"
   ]
  },
  {
   "cell_type": "code",
   "execution_count": 273,
   "id": "c4a0cc0f",
   "metadata": {},
   "outputs": [
    {
     "data": {
      "text/plain": [
       "{1: 'Phillip', 2: 'Omega III', 3: 'Ramya', 4: 'Romesh', 5: 'John'}"
      ]
     },
     "execution_count": 273,
     "metadata": {},
     "output_type": "execute_result"
    }
   ],
   "source": [
    "client"
   ]
  },
  {
   "cell_type": "markdown",
   "id": "bf16a8c9",
   "metadata": {},
   "source": [
    "### Q3. Write a code to replace client’s id with their respective name in shipment dictionary using a loop and dictionary comprehension"
   ]
  },
  {
   "cell_type": "code",
   "execution_count": 292,
   "id": "1881e268",
   "metadata": {},
   "outputs": [],
   "source": [
    "keys = list(shipment.keys())"
   ]
  },
  {
   "cell_type": "code",
   "execution_count": 293,
   "id": "0603eefd",
   "metadata": {},
   "outputs": [
    {
     "data": {
      "text/plain": [
       "[101, 102, 103, 104, 105, 106]"
      ]
     },
     "execution_count": 293,
     "metadata": {},
     "output_type": "execute_result"
    }
   ],
   "source": [
    "keys"
   ]
  },
  {
   "cell_type": "code",
   "execution_count": 284,
   "id": "df4bceaa",
   "metadata": {},
   "outputs": [],
   "source": [
    "values1 = list(shipment.values())"
   ]
  },
  {
   "cell_type": "code",
   "execution_count": 285,
   "id": "cee20f1a",
   "metadata": {},
   "outputs": [
    {
     "data": {
      "text/plain": [
       "[[1, 3, '14-03-2020', '25-03-2020', 'Area1', 'Area6', 'Deliverd', 198],\n",
       " [4, 1, '18-06-2020', '09-07-2020', 'Area2', 'Area4', 'Delivered', 275],\n",
       " [2, 3, '01-12-2020', '', 'Area5', 'Area1', 'In-Transit', 200],\n",
       " [1, 5, '23-06-2020', '25-06-2020', 'Area1', 'Area4', 'Delivered', 314],\n",
       " [3, 4, '29-08-2020', '10-09-2020', 'Area5', 'Area3', 'Delivered', 275],\n",
       " [5, 2, '28-06-2020', '', 'Area3', 'Area1', 'In-Transit', 270]]"
      ]
     },
     "execution_count": 285,
     "metadata": {},
     "output_type": "execute_result"
    }
   ],
   "source": [
    "values1"
   ]
  },
  {
   "cell_type": "code",
   "execution_count": 286,
   "id": "1a70a658",
   "metadata": {},
   "outputs": [
    {
     "name": "stdout",
     "output_type": "stream",
     "text": [
      "Ramya\n",
      "Phillip\n",
      "Ramya\n",
      "John\n",
      "Romesh\n",
      "Omega III\n"
     ]
    }
   ],
   "source": [
    "for i in values1:\n",
    "    for x in client.items():\n",
    "        if i[1]==x[0]:\n",
    "            i[1]=x[1]\n",
    "            print(i[1])   "
   ]
  },
  {
   "cell_type": "code",
   "execution_count": 289,
   "id": "93fa5eb5",
   "metadata": {},
   "outputs": [
    {
     "name": "stdout",
     "output_type": "stream",
     "text": [
      "Phillip\n",
      "Romesh\n",
      "Omega III\n",
      "Phillip\n",
      "Ramya\n",
      "John\n"
     ]
    }
   ],
   "source": [
    "for i in values1:\n",
    "    for x in client.items():\n",
    "        if i[0]==x[0]:\n",
    "            i[0]=x[1]\n",
    "            print(i[0])   "
   ]
  },
  {
   "cell_type": "code",
   "execution_count": 290,
   "id": "65f859ec",
   "metadata": {},
   "outputs": [
    {
     "data": {
      "text/plain": [
       "[['Phillip',\n",
       "  'Ramya',\n",
       "  '14-03-2020',\n",
       "  '25-03-2020',\n",
       "  'Area1',\n",
       "  'Area6',\n",
       "  'Deliverd',\n",
       "  198],\n",
       " ['Romesh',\n",
       "  'Phillip',\n",
       "  '18-06-2020',\n",
       "  '09-07-2020',\n",
       "  'Area2',\n",
       "  'Area4',\n",
       "  'Delivered',\n",
       "  275],\n",
       " ['Omega III', 'Ramya', '01-12-2020', '', 'Area5', 'Area1', 'In-Transit', 200],\n",
       " ['Phillip',\n",
       "  'John',\n",
       "  '23-06-2020',\n",
       "  '25-06-2020',\n",
       "  'Area1',\n",
       "  'Area4',\n",
       "  'Delivered',\n",
       "  314],\n",
       " ['Ramya',\n",
       "  'Romesh',\n",
       "  '29-08-2020',\n",
       "  '10-09-2020',\n",
       "  'Area5',\n",
       "  'Area3',\n",
       "  'Delivered',\n",
       "  275],\n",
       " ['John', 'Omega III', '28-06-2020', '', 'Area3', 'Area1', 'In-Transit', 270]]"
      ]
     },
     "execution_count": 290,
     "metadata": {},
     "output_type": "execute_result"
    }
   ],
   "source": [
    "values1      "
   ]
  },
  {
   "cell_type": "code",
   "execution_count": 296,
   "id": "165789f8",
   "metadata": {},
   "outputs": [
    {
     "data": {
      "text/plain": [
       "{101: ['Phillip',\n",
       "  'Ramya',\n",
       "  '14-03-2020',\n",
       "  '25-03-2020',\n",
       "  'Area1',\n",
       "  'Area6',\n",
       "  'Deliverd',\n",
       "  198],\n",
       " 102: ['Romesh',\n",
       "  'Phillip',\n",
       "  '18-06-2020',\n",
       "  '09-07-2020',\n",
       "  'Area2',\n",
       "  'Area4',\n",
       "  'Delivered',\n",
       "  275],\n",
       " 103: ['Omega III',\n",
       "  'Ramya',\n",
       "  '01-12-2020',\n",
       "  '',\n",
       "  'Area5',\n",
       "  'Area1',\n",
       "  'In-Transit',\n",
       "  200],\n",
       " 104: ['Phillip',\n",
       "  'John',\n",
       "  '23-06-2020',\n",
       "  '25-06-2020',\n",
       "  'Area1',\n",
       "  'Area4',\n",
       "  'Delivered',\n",
       "  314],\n",
       " 105: ['Ramya',\n",
       "  'Romesh',\n",
       "  '29-08-2020',\n",
       "  '10-09-2020',\n",
       "  'Area5',\n",
       "  'Area3',\n",
       "  'Delivered',\n",
       "  275],\n",
       " 106: ['John',\n",
       "  'Omega III',\n",
       "  '28-06-2020',\n",
       "  '',\n",
       "  'Area3',\n",
       "  'Area1',\n",
       "  'In-Transit',\n",
       "  270]}"
      ]
     },
     "execution_count": 296,
     "metadata": {},
     "output_type": "execute_result"
    }
   ],
   "source": [
    "#using dict comprehension\n",
    "shipment = dict(zip(keys,values1))\n",
    "shipment"
   ]
  },
  {
   "cell_type": "markdown",
   "id": "781c4bbc",
   "metadata": {},
   "source": [
    "### Q4. Print all shipment details that are sent by Phillip"
   ]
  },
  {
   "cell_type": "code",
   "execution_count": 94,
   "id": "5a244aed",
   "metadata": {},
   "outputs": [
    {
     "name": "stdout",
     "output_type": "stream",
     "text": [
      "(101, ['Phillip', 'Ramya', '14-03-2020', '25-03-2020', 'Area1', 'Area6', 'Deliverd', 198])\n",
      "(104, ['Phillip', 'John', '23-06-2020', '25-06-2020', 'Area1', 'Area4', 'Delivered', 314])\n"
     ]
    }
   ],
   "source": [
    "for x in shipment.items():\n",
    "    if x[1][0]=='Phillip':\n",
    "        print(x)\n",
    "   "
   ]
  },
  {
   "cell_type": "markdown",
   "id": "88bb9dfb",
   "metadata": {},
   "source": [
    "### Q5. Print all shipment details that are received by Ramya\n",
    "\n"
   ]
  },
  {
   "cell_type": "code",
   "execution_count": 95,
   "id": "9c634347",
   "metadata": {},
   "outputs": [
    {
     "name": "stdout",
     "output_type": "stream",
     "text": [
      "(105, ['Ramya', 'Romesh', '29-08-2020', 'Area5', 'Area3', 'Delivered', 275])\n"
     ]
    }
   ],
   "source": [
    "for x in shipment.items():\n",
    "    if x[1][0]=='Ramya':\n",
    "        print(x)\n",
    "   "
   ]
  },
  {
   "cell_type": "markdown",
   "id": "20513cc8",
   "metadata": {},
   "source": [
    "### Q6. Print all shipments which are in 'In-Transit' status"
   ]
  },
  {
   "cell_type": "code",
   "execution_count": 96,
   "id": "1c7888e6",
   "metadata": {},
   "outputs": [
    {
     "name": "stdout",
     "output_type": "stream",
     "text": [
      "(103, ['Omega III', 'Ramya', '01-12-2020', 'NUll', 'Area5', 'Area1', 'In-Transit', 200])\n",
      "(106, ['John', 'Omega III', '28-06-2020', 'Null', 'Area3', 'Area1', 'In-Transit', 270])\n"
     ]
    }
   ],
   "source": [
    "for x in shipment.items():\n",
    "    if x[1][6]=='In-Transit':\n",
    "        print(x)\n",
    "   "
   ]
  },
  {
   "cell_type": "markdown",
   "id": "bff042bb",
   "metadata": {},
   "source": [
    "### Q7. Print all shipments which are delivered within 7 days of courier Start date\n",
    "\n"
   ]
  },
  {
   "cell_type": "code",
   "execution_count": 187,
   "id": "54fb328f",
   "metadata": {},
   "outputs": [
    {
     "name": "stdout",
     "output_type": "stream",
     "text": [
      "(104, ['Phillip', 'John', '23-06-2020', '25-06-2020', 'Area1', 'Area4', 'Delivered', 314])\n"
     ]
    }
   ],
   "source": [
    "import datetime\n",
    "\n",
    "for i in shipment.items():\n",
    "    if i[1][3] != '':\n",
    "        d1 = (datetime.datetime.strptime(i[1][3],'%d-%M-%Y'))\n",
    "        d2 = (datetime.datetime.strptime(i[1][2],'%d-%M-%Y'))\n",
    "        if (abs(d2-d1).days)<=7:\n",
    "            print(i)\n",
    "           # print(i)\n",
    "   \n"
   ]
  },
  {
   "cell_type": "markdown",
   "id": "19595cf5",
   "metadata": {},
   "source": [
    "### Q8. Print all shipments which are delivered after 15 days of courier start date or not yet been delivered."
   ]
  },
  {
   "cell_type": "code",
   "execution_count": 188,
   "id": "b31c71a2",
   "metadata": {},
   "outputs": [
    {
     "name": "stdout",
     "output_type": "stream",
     "text": [
      "(103, ['Omega III', 'Ramya', '01-12-2020', '', 'Area5', 'Area1', 'In-Transit', 200])\n",
      "(105, ['Ramya', 'Romesh', '29-08-2020', '10-09-2020', 'Area5', 'Area3', 'Delivered', 275])\n",
      "(106, ['John', 'Omega III', '28-06-2020', '', 'Area3', 'Area1', 'In-Transit', 270])\n"
     ]
    }
   ],
   "source": [
    "import datetime\n",
    "\n",
    "for i in shipment.items():\n",
    "    if i[1][3] != '':\n",
    "        d1 = (datetime.datetime.strptime(i[1][3],'%d-%M-%Y'))\n",
    "        d2 = (datetime.datetime.strptime(i[1][2],'%d-%M-%Y'))\n",
    "        if (abs(d2-d1).days)>=15:\n",
    "            print(i)\n",
    "    else:\n",
    "        print(i)\n",
    "           # print(i)\n",
    "   "
   ]
  },
  {
   "cell_type": "markdown",
   "id": "75311c53",
   "metadata": {},
   "source": [
    "### Q9. Print the shipment details whose shipment cost in the range of 200 to 300\n",
    "\n"
   ]
  },
  {
   "cell_type": "code",
   "execution_count": 189,
   "id": "c29bbe64",
   "metadata": {},
   "outputs": [
    {
     "name": "stdout",
     "output_type": "stream",
     "text": [
      "(102, ['Romesh', 'Phillip', '18-06-2020', '09-07-2020', 'Area2', 'Area4', 'Delivered', 275])\n",
      "(103, ['Omega III', 'Ramya', '01-12-2020', '', 'Area5', 'Area1', 'In-Transit', 200])\n",
      "(105, ['Ramya', 'Romesh', '29-08-2020', '10-09-2020', 'Area5', 'Area3', 'Delivered', 275])\n",
      "(106, ['John', 'Omega III', '28-06-2020', '', 'Area3', 'Area1', 'In-Transit', 270])\n"
     ]
    }
   ],
   "source": [
    "for i in shipment.items():\n",
    "    if i[1][7]>=200 and i[1][7]<=300:\n",
    "        print(i)"
   ]
  },
  {
   "cell_type": "markdown",
   "id": "6bb1e7ae",
   "metadata": {},
   "source": [
    "### Q10. Print the name of all senders whose delivery status is ‘in-transit’."
   ]
  },
  {
   "cell_type": "code",
   "execution_count": 190,
   "id": "086a97f7",
   "metadata": {},
   "outputs": [
    {
     "name": "stdout",
     "output_type": "stream",
     "text": [
      "Omega III\n",
      "John\n"
     ]
    }
   ],
   "source": [
    "for i in shipment.items():\n",
    "    if i[1][6]=='In-Transit':\n",
    "        print(i[1][0])"
   ]
  },
  {
   "cell_type": "markdown",
   "id": "e55be0c1",
   "metadata": {},
   "source": [
    "### Q11. Print the shipment ID that has the highest shipment cost.\n",
    "\n"
   ]
  },
  {
   "cell_type": "code",
   "execution_count": 256,
   "id": "9d36a646",
   "metadata": {},
   "outputs": [
    {
     "name": "stdout",
     "output_type": "stream",
     "text": [
      "(104, ['Phillip', 'John', '23-06-2020', '25-06-2020', 'Area1', 'Area4', 'Delivered', 314])\n"
     ]
    }
   ],
   "source": [
    "cost = [i[1][7] for i in shipment.items()]\n",
    "for i in shipment.items():\n",
    "    if (i[1][7])== max(cost):\n",
    "        print(i)"
   ]
  },
  {
   "cell_type": "markdown",
   "id": "2940832f",
   "metadata": {},
   "source": [
    "### Q12. Print all the shipment details that are delivered by ‘John’ and received by ‘Omega III’\n",
    "\n"
   ]
  },
  {
   "cell_type": "code",
   "execution_count": 257,
   "id": "745593ca",
   "metadata": {},
   "outputs": [],
   "source": [
    "for i in shipment.items():\n",
    "    if i[1][0]=='John' and i[1][1]=='Omega III' and i[1][6]=='Delivered':\n",
    "        print(i)\n",
    "# Hence no output as product is not deliver yet."
   ]
  }
 ],
 "metadata": {
  "kernelspec": {
   "display_name": "Python 3 (ipykernel)",
   "language": "python",
   "name": "python3"
  },
  "language_info": {
   "codemirror_mode": {
    "name": "ipython",
    "version": 3
   },
   "file_extension": ".py",
   "mimetype": "text/x-python",
   "name": "python",
   "nbconvert_exporter": "python",
   "pygments_lexer": "ipython3",
   "version": "3.9.13"
  }
 },
 "nbformat": 4,
 "nbformat_minor": 5
}
